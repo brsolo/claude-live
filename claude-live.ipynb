{
 "cells": [
  {
   "cell_type": "code",
   "execution_count": 1,
   "metadata": {},
   "outputs": [],
   "source": [
    "from claude_live import *"
   ]
  },
  {
   "cell_type": "code",
   "execution_count": 2,
   "metadata": {},
   "outputs": [],
   "source": [
    "llm = ChatAnthropic(model=model, max_tokens=max_tokens, temperature=temperature)"
   ]
  },
  {
   "cell_type": "code",
   "execution_count": 7,
   "metadata": {},
   "outputs": [],
   "source": [
    "retriever = TavilySearchAPIRetriever(k=10)"
   ]
  },
  {
   "cell_type": "code",
   "execution_count": 10,
   "metadata": {},
   "outputs": [],
   "source": [
    "prompt = ChatPromptTemplate.from_messages(\n",
    "    [\n",
    "        (\n",
    "            \"system\",\n",
    "            \"Answer the user's question based on the below context. Be concise with your answer. \\n\\n{context}\",\n",
    "        ),\n",
    "        (\"user\", \"{input}\"),\n",
    "    ]\n",
    ")\n",
    "\n",
    "document_chain = create_stuff_documents_chain(llm, prompt)\n",
    "retrieval_chain = create_retrieval_chain(retriever, document_chain)"
   ]
  },
  {
   "cell_type": "code",
   "execution_count": 11,
   "metadata": {},
   "outputs": [
    {
     "name": "stdout",
     "output_type": "stream",
     "text": [
      "According to the context provided, the Washington Commanders selected LSU quarterback Jayden Daniels with the 2nd overall pick in the 2024 NFL Draft.\n",
      "\n",
      "The key details are:\n",
      "\n",
      "- The Commanders had the 2nd overall pick in the 2024 NFL Draft.\n",
      "- They used that pick to select quarterback Jayden Daniels from LSU.\n",
      "- Daniels had completed 65% of his passes for 12,749 yards with 89 touchdowns and 20 interceptions in college.\n",
      "\n",
      "So in summary, the Commanders drafted LSU quarterback Jayden Daniels with the 2nd overall pick in the 2024 NFL Draft.\n"
     ]
    }
   ],
   "source": [
    "response = retrieval_chain.invoke(\n",
    "    {\"input\": \"Who did the Commanders draft in the 2024 NFL draft?\"}\n",
    ")\n",
    "print(response[\"answer\"])"
   ]
  }
 ],
 "metadata": {
  "kernelspec": {
   "display_name": "Python 3",
   "language": "python",
   "name": "python3"
  },
  "language_info": {
   "codemirror_mode": {
    "name": "ipython",
    "version": 3
   },
   "file_extension": ".py",
   "mimetype": "text/x-python",
   "name": "python",
   "nbconvert_exporter": "python",
   "pygments_lexer": "ipython3",
   "version": "3.12.0"
  }
 },
 "nbformat": 4,
 "nbformat_minor": 2
}
